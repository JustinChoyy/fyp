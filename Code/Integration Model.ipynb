{
 "cells": [
  {
   "cell_type": "code",
   "execution_count": null,
   "metadata": {},
   "outputs": [],
   "source": [
    "from sksurv.preprocessing import OneHotEncoder\n",
    "from sklearn.externals import joblib\n",
    "import pickle\n",
    "import pandas as pd\n",
    "import numpy as np\n",
    "import pandas as pd\n",
    "import matplotlib.pyplot as plt\n",
    "import numpy as np\n",
    "%matplotlib inline\n",
    "\n",
    "def loadOHE(df,OHE_LOCATION = \"C:\\\\SMU_v2\\\\OHE\\\\\", name=\"\"):\n",
    "    '''\n",
    "    load enconder to OHE new raw data for prediction\n",
    "    '''\n",
    "    with open( \"{}{}{}\".format(OHE_LOCATION, name, '_encoder.pickle'), 'rb') as f:\n",
    "        enc = pickle.load(f) \n",
    "    \n",
    "    #type case object to category\n",
    "    typeCastList = list(df.select_dtypes(include=[object]).columns)\n",
    "    df[typeCastList] = df[typeCastList].astype(\"category\")\n",
    "    OHE_New_Data = enc.transform(df)\n",
    "    \n",
    "    return OHE_New_Data\n",
    "\n",
    "def survivalTable(modelName, raw_data):\n",
    "    '''\n",
    "    Calculate survival rate in years of interest\n",
    "    '''\n",
    "    interval = list([0.5,1,2,5,10])\n",
    "    \n",
    "    model = joblib.load('Model_folder\\\\{}.pkl'.format(modelName))\n",
    "\n",
    "    surv = model.predict_survival_function(raw_data)\n",
    "    \n",
    "    dic = {}\n",
    "    \n",
    "    for i, s in enumerate(surv):\n",
    "        x = model.event_times_\n",
    "        y = s\n",
    "    graphaxis = pd.DataFrame({'x':x,'y':y}, columns = ['x','y'])\n",
    "    for i in interval:\n",
    "        result = np.where(x > (365.25*(i+1)))[0][0]\n",
    "        dic[i] = y[result]\n",
    "\n",
    "    return dic,graphaxis"
   ]
  },
  {
   "cell_type": "code",
   "execution_count": null,
   "metadata": {},
   "outputs": [],
   "source": [
    "# group 1\n",
    "stage = \"dcis/non-invasive\"\n",
    "\n",
    "if stage == \"dcis/non-invasive\":\n",
    "    raw_data = {\n",
    "            'ER': ['positive'],\\\n",
    "            'PR': ['positive'],\\\n",
    "            'Her2': ['negative'],\\\n",
    "            'size_precise': [1.3],\\\n",
    "            'nodespos': [0],\\\n",
    "            'Age_@_Dx': [21],\\\n",
    "            'diff': ['grade 3']\n",
    "           }\n",
    "\n",
    "# group 3\n",
    "elif stage == \"4\":\n",
    "    raw_data = {\n",
    "        'ER': ['positive'],\\\n",
    "        'PR': ['positive'],\\\n",
    "        'Her2': ['negative'],\\\n",
    "        'size_precise': [1.3],\\\n",
    "        'nodespos': [0],\\\n",
    "        'Age_@_Dx': [21],\\\n",
    "        'T':['Tis'],\\\n",
    "        'N': ['n0'],\\\n",
    "        'M': ['m0']\n",
    "    }\n",
    "\n",
    "# group 2\n",
    "else:\n",
    "    raw_data = {\n",
    "        'ER': ['positive'],\\\n",
    "        'PR': ['positive'],\\\n",
    "        'Her2': ['negative'],\\\n",
    "        'Size': [\">\"],\\\n",
    "        'Age_@_Dx': [21],\\\n",
    "        'diff': ['grade 3']\n",
    "    }\n",
    "\n",
    "for k,v in raw_data.items():\n",
    "    if str(v[0]).isalpha():\n",
    "        raw_data[k] = v[0].lower()    \n",
    "raw_data = pd.DataFrame.from_dict(raw_data)\n",
    "raw_data = loadOHE(raw_data,OHE_LOCATION = \"C:\\\\SMU_v2\\\\OHE\\\\\", name=\"group 1_layer 4\")\n",
    "raw_data\n",
    "z,DF = survivalTable('group 1_layer 4_rsf',raw_data)\n",
    "print(z)"
   ]
  },
  {
   "cell_type": "code",
   "execution_count": null,
   "metadata": {},
   "outputs": [],
   "source": [
    "plt.step(DF['x']/365.25, DF['y'], where=\"post\", label=\"MY\")\n",
    "plt.ylabel(\"Survival probability\")\n",
    "plt.xlabel(\"Time in days\")\n",
    "plt.grid(True)\n",
    "plt.legend()"
   ]
  },
  {
   "cell_type": "markdown",
   "metadata": {},
   "source": [
    "# Kaplan Meier Functions"
   ]
  },
  {
   "cell_type": "code",
   "execution_count": null,
   "metadata": {},
   "outputs": [],
   "source": [
    "%run \"Kaplan Meier Full Population.ipynb\"\n",
    "\n",
    "def generate_KM_full_pop_df():\n",
    "    \n",
    "    z = \"Not applicable for this function\"\n",
    "    df = generate_kaplan_meier_with_class(years=1,save_to_csv_filename=\"None\")\n",
    "    \n",
    "    return z,df"
   ]
  },
  {
   "cell_type": "code",
   "execution_count": null,
   "metadata": {},
   "outputs": [],
   "source": [
    "#Test Kaplan Meier Function:\n",
    "z,DF = generate_KM_full_pop_df()\n",
    "print(\"z: \",z)\n",
    "print(\"This is the returned data frame header: \")\n",
    "display(DF.head())\n"
   ]
  },
  {
   "cell_type": "code",
   "execution_count": null,
   "metadata": {},
   "outputs": [],
   "source": []
  }
 ],
 "metadata": {
  "kernelspec": {
   "display_name": "Python 3",
   "language": "python",
   "name": "python3"
  },
  "language_info": {
   "codemirror_mode": {
    "name": "ipython",
    "version": 3
   },
   "file_extension": ".py",
   "mimetype": "text/x-python",
   "name": "python",
   "nbconvert_exporter": "python",
   "pygments_lexer": "ipython3",
   "version": "3.6.5"
  }
 },
 "nbformat": 4,
 "nbformat_minor": 2
}
