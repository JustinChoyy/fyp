{
 "cells": [
  {
   "cell_type": "code",
   "execution_count": 2,
   "metadata": {},
   "outputs": [],
   "source": [
    "import pandas as pd\n",
    "import numpy as np\n",
    "import matplotlib.pyplot as plt\n",
    "import pickle\n",
    "%matplotlib inline"
   ]
  },
  {
   "cell_type": "code",
   "execution_count": 4,
   "metadata": {},
   "outputs": [],
   "source": [
    "CDM = pd.read_pickle(r'C:\\\\SMU_v2\\\\output.pkl')\n",
    "# CDM.to_csv(\"C:\\\\Users\\\\LINGXING\\\\Desktop\\\\clinical.csv\",index=False)"
   ]
  },
  {
   "cell_type": "code",
   "execution_count": 5,
   "metadata": {},
   "outputs": [
    {
     "data": {
      "text/html": [
       "<div>\n",
       "<style scoped>\n",
       "    .dataframe tbody tr th:only-of-type {\n",
       "        vertical-align: middle;\n",
       "    }\n",
       "\n",
       "    .dataframe tbody tr th {\n",
       "        vertical-align: top;\n",
       "    }\n",
       "\n",
       "    .dataframe thead th {\n",
       "        text-align: right;\n",
       "    }\n",
       "</style>\n",
       "<table border=\"1\" class=\"dataframe\">\n",
       "  <thead>\n",
       "    <tr style=\"text-align: right;\">\n",
       "      <th></th>\n",
       "      <th>NRIC</th>\n",
       "      <th>dob</th>\n",
       "      <th>Gender</th>\n",
       "      <th>dx_date</th>\n",
       "      <th>c_tstage</th>\n",
       "      <th>cNstage</th>\n",
       "      <th>cMstage</th>\n",
       "      <th>c_Staging</th>\n",
       "      <th>tstage</th>\n",
       "      <th>nstage</th>\n",
       "      <th>...</th>\n",
       "      <th>nodespos</th>\n",
       "      <th>cause_of_death</th>\n",
       "      <th>Date_for_DFS</th>\n",
       "      <th>Date_for_OS</th>\n",
       "      <th>Date_for_CSS</th>\n",
       "      <th>Count_as_DFS</th>\n",
       "      <th>Count_as_OS</th>\n",
       "      <th>Count_as_CSS</th>\n",
       "      <th>Age_@_Dx</th>\n",
       "      <th>death_age</th>\n",
       "    </tr>\n",
       "  </thead>\n",
       "  <tbody>\n",
       "    <tr>\n",
       "      <th>1</th>\n",
       "      <td>1df81c7ea14f35b98890</td>\n",
       "      <td>1928-01-01</td>\n",
       "      <td>female</td>\n",
       "      <td>2007-06-12 00:00:00</td>\n",
       "      <td>tx</td>\n",
       "      <td>nx</td>\n",
       "      <td>mx</td>\n",
       "      <td>unknown</td>\n",
       "      <td>tis</td>\n",
       "      <td>n0</td>\n",
       "      <td>...</td>\n",
       "      <td>0.0</td>\n",
       "      <td>n</td>\n",
       "      <td>2018-05-05 00:00:00</td>\n",
       "      <td>2018-05-05 00:00:00</td>\n",
       "      <td>2018-05-05 00:00:00</td>\n",
       "      <td>n</td>\n",
       "      <td>dead</td>\n",
       "      <td>N</td>\n",
       "      <td>79</td>\n",
       "      <td>90.0</td>\n",
       "    </tr>\n",
       "  </tbody>\n",
       "</table>\n",
       "<p>1 rows × 30 columns</p>\n",
       "</div>"
      ],
      "text/plain": [
       "                   NRIC        dob  Gender              dx_date c_tstage  \\\n",
       "1  1df81c7ea14f35b98890 1928-01-01  female  2007-06-12 00:00:00       tx   \n",
       "\n",
       "  cNstage cMstage c_Staging tstage nstage  ... nodespos cause_of_death  \\\n",
       "1      nx      mx   unknown    tis     n0  ...      0.0              n   \n",
       "\n",
       "          Date_for_DFS          Date_for_OS         Date_for_CSS Count_as_DFS  \\\n",
       "1  2018-05-05 00:00:00  2018-05-05 00:00:00  2018-05-05 00:00:00            n   \n",
       "\n",
       "  Count_as_OS Count_as_CSS Age_@_Dx  death_age  \n",
       "1        dead            N       79       90.0  \n",
       "\n",
       "[1 rows x 30 columns]"
      ]
     },
     "execution_count": 5,
     "metadata": {},
     "output_type": "execute_result"
    }
   ],
   "source": [
    "CDM.head(1)"
   ]
  },
  {
   "cell_type": "code",
   "execution_count": null,
   "metadata": {},
   "outputs": [],
   "source": []
  }
 ],
 "metadata": {
  "kernelspec": {
   "display_name": "Python 3",
   "language": "python",
   "name": "python3"
  },
  "language_info": {
   "codemirror_mode": {
    "name": "ipython",
    "version": 3
   },
   "file_extension": ".py",
   "mimetype": "text/x-python",
   "name": "python",
   "nbconvert_exporter": "python",
   "pygments_lexer": "ipython3",
   "version": "3.6.5"
  }
 },
 "nbformat": 4,
 "nbformat_minor": 2
}
