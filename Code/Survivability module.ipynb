{
 "cells": [
  {
   "cell_type": "code",
   "execution_count": null,
   "metadata": {},
   "outputs": [],
   "source": [
    "import pandas as pd\n",
    "import numpy as np"
   ]
  },
  {
   "cell_type": "code",
   "execution_count": null,
   "metadata": {},
   "outputs": [],
   "source": [
    "def drop_by_index(X,indexes):\n",
    "    \"\"\"\n",
    "    helper function to drop rows of dataframe and return new dataframe without those rows with indexes resetted\n",
    "    \"\"\"\n",
    "    X = X.drop(indexes)\n",
    "    X = X.reset_index().drop(columns=\"index\")\n",
    "    return(X)\n",
    "\n",
    "def calculate_death_ratio(data):\n",
    "    \"\"\"\n",
    "    Given data, calculate survivability ratios for DFS, OS, CSS\n",
    "    input: dataframe of patients. this data should be a pre-filtered list of patients\n",
    "    output: None as of this version. (WIP)\n",
    "    \"\"\"\n",
    "    counter_5y = 0\n",
    "    counter_10y = 0\n",
    "    counter_DFS = [0,0]\n",
    "    counter_CSS = [0,0]\n",
    "    counter_OS = [0,0]\n",
    "    for index, row in data.iterrows():\n",
    "#         print(row)\n",
    "        CSS = row[\"CSS_years\"]\n",
    "        DFS = row[\"DFS_years\"]\n",
    "        OS = row[\"OS_years\"]\n",
    "\n",
    "        # if patient is alive\n",
    "        if np.isnan(row[\"death_age\"]):\n",
    "            max_years = max(CSS,DFS,OS)\n",
    "            if max_years >= 10:\n",
    "                counter_5y += 1\n",
    "                counter_10y += 1\n",
    "\n",
    "                if DFS >= 10:\n",
    "                    counter_DFS[0] += 1\n",
    "                    counter_DFS[1] += 1\n",
    "                elif DFS >= 5:\n",
    "                    counter_DFS[0] += 1\n",
    "\n",
    "                if OS >= 10:\n",
    "                    counter_OS[0] += 1\n",
    "                    counter_OS[1] += 1\n",
    "                elif DFS >= 5:\n",
    "                    counter_OS[0] += 1\n",
    "\n",
    "                if CSS >= 10:\n",
    "                    counter_CSS[0] += 1\n",
    "                    counter_CSS[1] += 1\n",
    "                elif DFS >= 5:\n",
    "                    counter_CSS[0] += 1\n",
    "                    \n",
    "            elif max_years >= 5:\n",
    "                counter_5y += 1\n",
    "\n",
    "                if DFS >= 5:\n",
    "                    counter_DFS[0] += 1\n",
    "\n",
    "                if DFS >= 5:\n",
    "                    counter_OS[0] += 1\n",
    "\n",
    "                if DFS >= 5:\n",
    "                    counter_CSS[0] += 1\n",
    "                    \n",
    "        # if patient is dead\n",
    "        else:\n",
    "            counter_5y += 1\n",
    "            counter_10y += 1\n",
    "            \n",
    "            if DFS >= 10:\n",
    "                counter_DFS[0] += 1\n",
    "                counter_DFS[1] += 1\n",
    "            elif DFS >= 5:\n",
    "                counter_DFS[0] += 1\n",
    "                \n",
    "            if OS >= 10:\n",
    "                counter_OS[0] += 1\n",
    "                counter_OS[1] += 1\n",
    "            elif DFS >= 5:\n",
    "                counter_OS[0] += 1\n",
    "                \n",
    "            if CSS >= 10:\n",
    "                counter_CSS[0] += 1\n",
    "                counter_CSS[1] += 1\n",
    "            elif DFS >= 5:\n",
    "                counter_CSS[0] += 1\n",
    "    print(\"Across the data, survival ratios are as follows\")\n",
    "    print(\"DFS\\n5 Year: {:.2f}%\\n10 Year: {:.2f}%\".format(counter_DFS[0]/counter_5y*100,counter_DFS[1]/counter_10y*100))\n",
    "    print(\"OS\\n5 Year: {:.2f}%\\n10 Year: {:.2f}%\".format(counter_OS[0]/counter_5y*100,counter_OS[1]/counter_10y*100))\n",
    "    print(\"CSS\\n5 Year: {:.2f}%\\n10 Year: {:.2f}%\".format(counter_CSS[0]/counter_5y*100,counter_CSS[1]/counter_10y*100))\n",
    "                \n",
    "                "
   ]
  },
  {
   "cell_type": "code",
   "execution_count": null,
   "metadata": {},
   "outputs": [],
   "source": [
    "clinical = pd.read_pickle(\"C:\\\\SMU_v2\\\\clinical_output.pkl\").reset_index().drop(columns=\"index\")\n",
    "to_drop = clinical[clinical['dx_date']==\"NA\"].index\n",
    "clinical = drop_by_index(clinical,to_drop)"
   ]
  },
  {
   "cell_type": "code",
   "execution_count": null,
   "metadata": {},
   "outputs": [],
   "source": [
    "survival = clinical[[\"NRIC\",\"dx_date\",\"Date_for_DFS\",\"Date_for_OS\",\"Date_for_CSS\",\"death_age\"]]"
   ]
  },
  {
   "cell_type": "code",
   "execution_count": null,
   "metadata": {},
   "outputs": [],
   "source": [
    "survival = survival.drop(survival[survival['Date_for_DFS'].isnull()|survival['Date_for_OS'].isnull()|survival['Date_for_CSS'].isnull()].index)"
   ]
  },
  {
   "cell_type": "code",
   "execution_count": null,
   "metadata": {},
   "outputs": [],
   "source": [
    "survival[\"Date_for_DFS\"] = pd.to_datetime(survival[\"Date_for_DFS\"])\n",
    "survival[\"Date_for_OS\"] = pd.to_datetime(survival[\"Date_for_OS\"])\n",
    "survival[\"Date_for_CSS\"] = pd.to_datetime(survival[\"Date_for_CSS\"])\n",
    "survival[\"dx_date\"] = pd.to_datetime(survival[\"dx_date\"])\n"
   ]
  },
  {
   "cell_type": "code",
   "execution_count": null,
   "metadata": {},
   "outputs": [],
   "source": [
    "survival[\"DFS_years\"] = (survival[\"Date_for_DFS\"] - survival['dx_date'] )/np.timedelta64(1, 'Y')//1\n",
    "survival[\"OS_years\"] = (survival[\"Date_for_OS\"] - survival['dx_date'] )/np.timedelta64(1, 'Y')//1\n",
    "survival[\"CSS_years\"] = (survival[\"Date_for_CSS\"] - survival['dx_date'] )/np.timedelta64(1, 'Y')//1"
   ]
  },
  {
   "cell_type": "code",
   "execution_count": null,
   "metadata": {},
   "outputs": [],
   "source": [
    "calculate_death_ratio(survival)"
   ]
  }
 ],
 "metadata": {
  "kernelspec": {
   "display_name": "Python 3",
   "language": "python",
   "name": "python3"
  },
  "language_info": {
   "codemirror_mode": {
    "name": "ipython",
    "version": 3
   },
   "file_extension": ".py",
   "mimetype": "text/x-python",
   "name": "python",
   "nbconvert_exporter": "python",
   "pygments_lexer": "ipython3",
   "version": "3.7.4"
  }
 },
 "nbformat": 4,
 "nbformat_minor": 2
}
