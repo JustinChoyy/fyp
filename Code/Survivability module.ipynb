{
 "cells": [
  {
   "cell_type": "code",
   "execution_count": null,
   "metadata": {},
   "outputs": [],
   "source": [
    "import pandas as pd\n",
    "import numpy as np\n",
    "pd.set_option('display.width', None)\n",
    "pd.set_option('display.max_column',None)\n",
    "pd.set_option('display.max_rows',None)"
   ]
  },
  {
   "cell_type": "code",
   "execution_count": null,
   "metadata": {},
   "outputs": [],
   "source": [
    "def drop_by_index(X,indexes):\n",
    "#     y = y.drop(indexes)\n",
    "    X = X.drop(indexes)\n",
    "    X = X.reset_index().drop(columns=\"index\")\n",
    "#     y = y.reset_index().drop(columns=\"index\")\n",
    "    return(X)"
   ]
  },
  {
   "cell_type": "code",
   "execution_count": null,
   "metadata": {},
   "outputs": [],
   "source": [
    "clinical = pd.read_pickle(\"C:\\\\SMU_v2\\\\clinical_output.pkl\").reset_index().drop(columns=\"index\")\n",
    "to_drop = clinical[clinical['dx_date']==\"NA\"].index\n",
    "clinical = drop_by_index(clinical,to_drop)"
   ]
  },
  {
   "cell_type": "code",
   "execution_count": null,
   "metadata": {},
   "outputs": [],
   "source": [
    "# survival = clinical[[\"NRIC\",\"dx_date\",\"Date_for_DFS\",\"Date_for_OS\",\"Date_for_CSS\"]]\n",
    "survival = clinical"
   ]
  },
  {
   "cell_type": "code",
   "execution_count": null,
   "metadata": {},
   "outputs": [],
   "source": [
    "survival = survival.drop(survival[survival['Date_for_DFS'].isnull()|survival['Date_for_OS'].isnull()|survival['Date_for_CSS'].isnull()].index)"
   ]
  },
  {
   "cell_type": "code",
   "execution_count": null,
   "metadata": {},
   "outputs": [],
   "source": [
    "survival[\"Date_for_DFS\"] = pd.to_datetime(survival[\"Date_for_DFS\"])\n",
    "survival[\"Date_for_OS\"] = pd.to_datetime(survival[\"Date_for_OS\"])\n",
    "survival[\"Date_for_CSS\"] = pd.to_datetime(survival[\"Date_for_CSS\"])\n",
    "survival[\"dx_date\"] = pd.to_datetime(survival[\"dx_date\"])\n"
   ]
  },
  {
   "cell_type": "code",
   "execution_count": null,
   "metadata": {},
   "outputs": [],
   "source": [
    "survival[\"DFS_years\"] = (survival[\"Date_for_DFS\"] - survival['dx_date'] )/np.timedelta64(1, 'Y')//1\n",
    "survival[\"OS_years\"] = (survival[\"Date_for_OS\"] - survival['dx_date'] )/np.timedelta64(1, 'Y')//1\n",
    "survival[\"CSS_years\"] = (survival[\"Date_for_CSS\"] - survival['dx_date'] )/np.timedelta64(1, 'Y')//1"
   ]
  },
  {
   "cell_type": "code",
   "execution_count": null,
   "metadata": {},
   "outputs": [],
   "source": [
    "survival.drop(columns=['cause_of_death','Age_@_Dx'], inplace = True)\n",
    "survival.head(50)"
   ]
  },
  {
   "cell_type": "code",
   "execution_count": null,
   "metadata": {},
   "outputs": [],
   "source": []
  },
  {
   "cell_type": "code",
   "execution_count": null,
   "metadata": {},
   "outputs": [],
   "source": [
    "x = survival[['Gender', 'c_tstage', 'cNstage', 'cMstage','c_Staging',\\\n",
    "              'tstage', 'nstage', 'Mstage', 'p_Staging', 'diff','TNM_Stage',\\\n",
    "              'ProgStage_AJCC8', 'ER', 'PR', 'cerbB2', 'Her2','size_precise', 'nodespos']]\n",
    "y = survival[['DFS_years', 'OS_years','CSS_years']]"
   ]
  },
  {
   "cell_type": "code",
   "execution_count": null,
   "metadata": {},
   "outputs": [],
   "source": []
  },
  {
   "cell_type": "code",
   "execution_count": null,
   "metadata": {},
   "outputs": [],
   "source": []
  }
 ],
 "metadata": {
  "kernelspec": {
   "display_name": "Python 3",
   "language": "python",
   "name": "python3"
  },
  "language_info": {
   "codemirror_mode": {
    "name": "ipython",
    "version": 3
   },
   "file_extension": ".py",
   "mimetype": "text/x-python",
   "name": "python",
   "nbconvert_exporter": "python",
   "pygments_lexer": "ipython3",
   "version": "3.6.5"
  }
 },
 "nbformat": 4,
 "nbformat_minor": 2
}
