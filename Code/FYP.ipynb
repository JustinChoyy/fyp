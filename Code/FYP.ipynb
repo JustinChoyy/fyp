{
 "cells": [
  {
   "cell_type": "code",
   "execution_count": null,
   "metadata": {},
   "outputs": [],
   "source": [
    "import os\n",
    "import pandas as pd\n",
    "import numpy as np\n",
    "import sys\n",
    "import win32com.client\n",
    "import getpass\n",
    "import datetime\n",
    "import pywintypes\n",
    "import matplotlib.pyplot as plt \n",
    "%matplotlib inline"
   ]
  },
  {
   "cell_type": "markdown",
   "metadata": {},
   "source": [
    "# Function"
   ]
  },
  {
   "cell_type": "code",
   "execution_count": null,
   "metadata": {},
   "outputs": [],
   "source": [
    "pd.set_option('display.width', None)\n",
    "pd.set_option('display.max_column',None)\n",
    "pd.set_option('display.max_rows',None)\n",
    "\n",
    "# excel to df\n",
    "def getDataToDF(xlws,start,end,first = False):\n",
    "    last_col = xlws.UsedRange.Columns.Count\n",
    "    header = xlws.Range(xlws.Cells(1, 1), xlws.Cells(1, last_col)).Value\n",
    "    content = xlws.Range(xlws.Cells(start, 1), xlws.Cells(end, last_col)).Value\n",
    "    \n",
    "    if first:\n",
    "        data = list(content[1:])\n",
    "    else:\n",
    "        data = list(content[0:])\n",
    "        \n",
    "    for x in range(0,len(data)):\n",
    "        data[x] = list(data[x])\n",
    "        for y in range(0,len(data[x])):\n",
    "            if isinstance(data[x][y], pywintypes.TimeType):\n",
    "                temp = str(data[x][y]).rstrip(\"+00:00\").strip()\n",
    "                if temp[:2] == '20' and int(temp[:4]) >= int(now.year):\n",
    "                    temp = '19' + temp[2:]\n",
    "                data[x][y] = datetime.datetime.strptime(temp, \"%Y-%m-%d\")\n",
    "    df = pd.DataFrame(data, columns=header[0])\n",
    "    df.fillna(value=pd.np.nan, inplace=True)\n",
    "    return df\n",
    "\n",
    "# def processCol(CDM):\n",
    "#     # create age\n",
    "#     CDM['dob'] = pd.to_datetime(CDM['dob'])\n",
    "#     CDM['death_age'] = CDM.apply(lambda row: np.nan \\\n",
    "#                              if row['death'] == np.nan \\\n",
    "#                              else (pd.to_datetime(row['death']) - row['dob']),\\\n",
    "#                              axis=1)\n",
    "#     #     CDM['death_age'] = CDM.apply(lambda row: np.nan \\\n",
    "#     #                                  if row['death'] == np.nan \\\n",
    "#     #                                  else len(pd.date_range(start=row['dob'],end=pd.to_datetime(row['death']),freq='M')) ,\\\n",
    "#     #                                  axis=1)\n",
    "#     #replace 9 to unknow\n",
    "#     CDM['Race'] = \n",
    "\n",
    "# Recurrence_Score whats the binning before changing from numeric to string \n",
    "# change col Age_@_Dx to other naming\n",
    "# Merche_at age of 0\n",
    "# First child at the age of 0\n",
    "# Age.Menopause at the age of 2\n",
    "# Menopause_Status value of 9\n",
    "# First_Child_At at the age of 0\n",
    "# Hor_replacement value of 20 (out of scope)\n",
    "# Breast_Feed with value 0\n",
    "# HistCode_WWXX values doest not match\n",
    "# cNstage with value 0\n",
    "# cMstage with value 0\n",
    "# calculate the avg time span using'Last_Tamoxifen','X.1st_Tamoxifen'\n",
    "# calculate the avg time span using 'hrt2_end''hrt2_start'\n",
    "# calculate the avg time span using 'neo_adj_chemo_start','neo_adj_chemo_end'\n",
    "# calculate the avg time using 'X.1st_Herceptin', 'Last_Herceptin'\n",
    "# calculate the avg time using 'chemo_start', 'chemo_end'\n",
    "# calculate the avg time using 'rtstart', 'rtend'\n",
    "\n",
    "#     CDM.drop(CDM.loc[df['line_race']=='20'].index, inplace=True)\n",
    "\n",
    "def dropColCDM(df, listToDrop):\n",
    "    df = df.drop(columns=listToDrop)\n",
    "    return df\n",
    "\n",
    "def oneHotEncode(df, listToDo):\n",
    "    for x in listToDo:\n",
    "        df = pd.concat([df,pd.get_dummies(df[x], prefix=x, dummy_na=True)],axis=1)\n",
    "        df.drop([x],axis=1, inplace=True)        \n",
    "    return df\n",
    "        \n",
    "def outToCSV(df,filename):\n",
    "    if os.path.exists('./{}'.format(filename)):\n",
    "        df.to_csv(path_or_buf=filename,header=None,index=False,mode=\"a\")\n",
    "    else:\n",
    "        df.to_csv(path_or_buf=filename,header=True,index=False)"
   ]
  },
  {
   "cell_type": "markdown",
   "metadata": {},
   "source": [
    "# Main Process"
   ]
  },
  {
   "cell_type": "code",
   "execution_count": null,
   "metadata": {},
   "outputs": [],
   "source": [
    "if os.path.exists('./output.csv'):\n",
    "    CDM = pd.read_csv('output.csv')\n",
    "else:\n",
    "    # primary set up\n",
    "    xlApp = win32com.client.Dispatch(\"Excel.Application\")\n",
    "    xlApp.Interactive = False\n",
    "    xlApp.Visible = False\n",
    "\n",
    "    # cwd = os.getcwd()\n",
    "    cwd = \"C:\"\n",
    "    path = str(cwd + \"\\\\SMU_v2\\\\\")\n",
    "    files = os.listdir(path)\n",
    "\n",
    "    # Put files into dataframe dict\n",
    "    df_list = {}\n",
    "\n",
    "    #require user input for password\n",
    "    pwd = getpass.getpass('Enter file password: ')\n",
    "\n",
    "    # Pick out 'xlsx' files:\n",
    "    files_xls = [f for f in files if f[-4:] == 'xlsx']\n",
    "\n",
    "    x = 1\n",
    "    now = datetime.datetime.now()\n",
    "\n",
    "    for f in files_xls:\n",
    "        xlwb = xlApp.Workbooks.Open(path+f, False, True, None, pwd)\n",
    "        xlws = xlwb.Worksheets(1) \n",
    "        last_row = xlws.UsedRange.Rows.Count\n",
    "\n",
    "        if \"Clinical\" in f:\n",
    "\n",
    "            numberOfTimes = int(last_row/5000) + 1\n",
    "            \n",
    "            for i in range(1,numberOfTimes+1):\n",
    "\n",
    "                start = (i-1)*5000 + 1\n",
    "                end = i*5000\n",
    "\n",
    "                ### get data from excel to df ###\n",
    "                # first set of 5000 rows requires header\n",
    "                # for all remaining rows\n",
    "                # last set of 5000 take to the last row used in worksheet\n",
    "                # drop all unused columns\n",
    "                # one hot encode data\n",
    "                # store to CSV\n",
    "                # status update\n",
    "                \n",
    "                if i == 1:  \n",
    "                    CDM = getDataToDF(xlws,start,end, True)\n",
    "                else:\n",
    "                    if i == numberOfTimes: \n",
    "                        end = last_row\n",
    "                    CDM = getDataToDF(xlws,start,end)\n",
    "        \n",
    "                listToDrop = [\n",
    "                            'Dx_Date > 2005', 'dob','death','previous_dx_date','previous_stagingtype',\\\n",
    "                            'Previous_T', 'Previous_N', 'Previous_M', 'Previous_stage','lastseen','sync_ca_date',\\\n",
    "                            'sync_ca_desc','hx_other_ca_date','hx_other_ca_desc','Rx_date','srgdate','hrt2_end',\\\n",
    "                            'hrt2_start', 'neo_adj_chemo_start','neo_adj_chemo_end','X.1st_Herceptin','Last_Herceptin',\\\n",
    "                            'chemo_start', 'chemo_end','rtstart','rtend','Has Bills?','Marital_Status','Hospital', 'KKH',\\\n",
    "                            \"NCCS\", 'SGH','comorbidity','Presentation','Doctor_In_Charge','firstsee','operation_summ',\\\n",
    "                            'Surgeon','er_intensity','er_percentage','pr_intensity','pr_percentage','Last_Tamoxifen',\\\n",
    "                            'X.1st_Tamoxifen','cerbB2_intensity','cerbB2_percentage','closet_radial_margin','margins',\\\n",
    "                            'status','margins_calc','slnb','firstfail','fish_ratio','hrt2','chemo','Herceptindose_mg',\\\n",
    "                            'neo_adj_chemo_start','neo_adj_chemo_end','neo_adj_chemo_regimen','neo_adj_chemo_dose',\\\n",
    "                            'treatment_remarks','New_mets','Site_mets','Mets.Dx','remarks','Size',\\\n",
    "                            'New_primary','Local_Desc','Local_nontrue_desc','Nodal_recur','contra_remarks','deathcode',\\\n",
    "                            'MHA_COD','RT','RT_intent','technique','First_Fail_Date','Second_Fail_Date','Neo_Adjuvant',\\\n",
    "                            'Third_Fail_Date',\"Date_for_DDFS\",\"Date_for_IBTR\",\"Date_for_DSS\",\"Count_as_IBTR\",\"mastect\",\\\n",
    "                            \"Date_for_True_Local_Recurrence\",\"Date_for_Other_Local_Recurrence\",\"Date_for_Nodal_Recurrence\",\\\n",
    "                            \"Date_for_Contra_Rec\",\"event_dt\",\"Date_for_CSS\",\"Count_as_EVENTS\",\"Count_as_DDFS\",\\\n",
    "                            \"Count_as_True_Local_Recurrence\",\"Count_as_Other_Local_Recurrence\",\"surgfirst\",\"Date_for_IDFS\",\\\n",
    "                            \"Count_as_Nodal_Recurrence\",\"Count_as_Contra_Rec\",\"Count_as_CSS\",\"Date_for_RFS\",\\\n",
    "                            \"chestsiz_recode\",\"Chestsiz_dichotomise\",\"TNM_collapse\",\"TNM_I_vs_II\",\"Time_CSS\",\"Time_IBTR\",\\\n",
    "                            \"Time_IBTRTrue\",\"Time_DDFS\",\"Time_ContraRec\",\"Histo_subtype\",\"Histo_subtype_collapse\",\\\n",
    "                            \"Histo_subtype_collapser\",\"subtype_stg2013\",\"subtype_stg2013_lumb\",\"Triple_Neg\",\"resident\",\\\n",
    "                            \"Count_as_IDFS\",\"Count_as_DSS\", \"Count_as_RFS\",\"Time_IDFS\",\"Time_DSS\",\"Time_RFS\",\"END_OF_ENTRY\"]\n",
    "                CDM = dropColCDM(CDM,listToDrop)\n",
    "                \n",
    "                listToDoforOHE = [\n",
    "                                'Side','Gender', 'Race', 'Smoker', 'Alcohol',\\\n",
    "                                'ECOG','Oral_Contraceptive', 'famhx','Breast_Feed','Menopause_Status',\\\n",
    "                                'Hor_replacement','Breast_surgery','Reconstruction','Site','Histology',\\\n",
    "                                'HistCode_WWXX','c_tstage','cNstage','cMstage','c_Staging','tstage','nstage','Mstage',\\\n",
    "                                'p_Staging','Ajcc8_phyllodes_tstage','diff','TNM_Stage','ProgStage_AJCC8',\\\n",
    "                                'AJCC8_Staging','ER','Recurrence_Score','FISH', 'Chemo_Intent_not_neoadj',\\\n",
    "                                'PR','cerbB2','Her2','Multi_focality','Multi_centricity','Extensive_Intraductal_Component',\\\n",
    "                                'Comedo_Necrosis','Pleomorphism','VNPI','invasion','False_Negative_SLNB',\\\n",
    "                                'Non_SLN','ac','AClevel','TMX','hrt','hrt2_desc','Targeted','neo_adj_chemo_regimen_desc',\\\n",
    "                                'other_chemo_regimen','chemo_regimen','RT_Technique','field','dose','scdose','midplane',\\\n",
    "                                'intmamm','TreatmentCycleType','First_Fail','Second_Fail','Third_Fail',\\\n",
    "                                'cause_of_death'\n",
    "                                ]\n",
    "                \n",
    "                CDM = oneHotEncode(CDM,listToDoforOHE)\n",
    "                outToCSV(CDM,'output.csv')  \n",
    "                print(\"Row {} to {} write to cvs.\".format(start,end))\n",
    "        else:\n",
    "            # create name for bill dataframe\n",
    "            billName = 'bill{}'.format(x)\n",
    "    # #         rows to loop each time\n",
    "    #         rowToDo = \n",
    "    #         cvsName = \"\"\n",
    "    # #         put individual bill df to df_list\n",
    "    #         df_list[billName] = getDataToDF(xlws,rowToDo)\n",
    "            x+=1\n",
    "\n",
    "        #reset variables\n",
    "        xlws = None\n",
    "        xlwb.Close(False)\n",
    "        xlwb = None\n",
    "\n",
    "    #remove buffer and reset system settings\n",
    "    xlApp.Interactive = True\n",
    "    xlApp.Visible = True\n",
    "    xlApp.Quit()\n",
    "    xlApp = None"
   ]
  },
  {
   "cell_type": "code",
   "execution_count": null,
   "metadata": {},
   "outputs": [],
   "source": [
    "CDM.head(1)"
   ]
  },
  {
   "cell_type": "code",
   "execution_count": null,
   "metadata": {},
   "outputs": [],
   "source": [
    "# CDM[['death_age']].plot(kind='hist',bins=[0,20,40,60,80,100],rwidth=0.8)\n",
    "# plt.show()\n",
    "CDM['death_age']"
   ]
  },
  {
   "cell_type": "code",
   "execution_count": null,
   "metadata": {},
   "outputs": [],
   "source": [
    "from sklearn.feature_selection import SelectKBest\n",
    "from sklearn.feature_selection import chi2\n",
    "\n",
    "\n",
    "X = CDM.iloc[:,0:20]  #independent columns\n",
    "y = CDM.iloc[:,-1]    #target column i.e price range\n",
    "\n",
    "#apply SelectKBest class to extract top 100 best features\n",
    "bestfeatures = SelectKBest(score_func=chi2, k=100)\n",
    "fit = bestfeatures.fit(X,y)\n",
    "dfscores = pd.DataFrame(fit.scores_)\n",
    "dfcolumns = pd.DataFrame(X.columns)\n",
    "#concat two dataframes for better visualization \n",
    "featureScores = pd.concat([dfcolumns,dfscores],axis=1)\n",
    "featureScores.columns = ['Specs','Score']  #naming the dataframe columns\n",
    "print(featureScores.nlargest(100,'Score'))  #print 10 best features"
   ]
  },
  {
   "cell_type": "markdown",
   "metadata": {},
   "source": [
    "# MY"
   ]
  },
  {
   "cell_type": "code",
   "execution_count": null,
   "metadata": {},
   "outputs": [],
   "source": [
    "#for bills\n",
    "test_patient = \"4b6ac0036ae2a4e8e6c3\"\n",
    "# 'Bills Data_10-12k (MASKED)v2.xlsx', 'Bills Data_12-14k (MASKED)v2.xlsx', 'Bills Data_14-16k (MASKED)v2.xlsx', 'Bills Data_16-18k (MASKED)v2.xlsx', 'Bills Data_18-20k (MASKED)v2.xlsx', 'Bills Data_1st 2k (MASKED)v2.xlsx', 'Bills Data_2-4k (MASKED)v2.xlsx', 'Bills Data_20-22k (MASKED)v2.xlsx', 'Bills Data_22-24k (MASKED)v2.xlsx', 'Bills Data_24-26k (MASKED)v2.xlsx', 'Bills Data_4-6k (MASKED)v2.xlsx', 'Bills Data_6-8k (MASKED)v2.xlsx', 'Bills Data_8-10k (MASKED)v2.xlsx', 'Bills Data_last 1k (MASKED)v2.xlsx', 'Breast Database Dictionary SMU_v2.xlsx', 'Clinical Data_Masked_v2.xlsx', 'Mapping for service code.xlsx'\n",
    "bills = df_list['Bills Data_last 1k (MASKED)v2.xlsx']\n",
    "patients = df_list['Clinical Data_Masked_v2.xlsx']"
   ]
  },
  {
   "cell_type": "code",
   "execution_count": null,
   "metadata": {},
   "outputs": [],
   "source": [
    "test_patient_bills = bills[bills[\"Patient.ID\"]==test_patient]\n",
    "est_patient_dx = patients[patients[\"NRIC\"]==test_patient]['dx_date']"
   ]
  },
  {
   "cell_type": "code",
   "execution_count": null,
   "metadata": {},
   "outputs": [],
   "source": [
    "earliest_date = test_patient_dx - pd.tseries.offsets.MonthOffset(6)\n",
    "earliest_date = earliest_date.values[0]"
   ]
  },
  {
   "cell_type": "code",
   "execution_count": null,
   "metadata": {},
   "outputs": [],
   "source": [
    "latest_date =min(pd.to_datetime('now').to_datetime64(), (test_patient_dx + pd.tseries.offsets.MonthOffset(120)).values[0])"
   ]
  },
  {
   "cell_type": "code",
   "execution_count": null,
   "metadata": {},
   "outputs": [],
   "source": [
    "#only looking at bills from NCC\n",
    "test_patient_bills = test_patient_bills[test_patient_bills['Institution.Code'] == \"NCC\"]"
   ]
  },
  {
   "cell_type": "code",
   "execution_count": null,
   "metadata": {},
   "outputs": [],
   "source": [
    "#remove all bills not in the range of dates from 6 months before diagnosis and 10 years after diagnosis\n",
    "test_patient_bills[\"Service.Date.From.Date\"]"
   ]
  },
  {
   "cell_type": "code",
   "execution_count": null,
   "metadata": {},
   "outputs": [],
   "source": [
    "resampled = test_patient_bills[[\"Net.Payable\",\"Service.Date.From.Date\"]].resample(\"3M\",on = \"Service.Date.From.Date\").sum()"
   ]
  },
  {
   "cell_type": "code",
   "execution_count": null,
   "metadata": {},
   "outputs": [],
   "source": [
    "resampled.mean()"
   ]
  },
  {
   "cell_type": "code",
   "execution_count": null,
   "metadata": {},
   "outputs": [],
   "source": [
    "test_patient_dx"
   ]
  },
  {
   "cell_type": "code",
   "execution_count": null,
   "metadata": {},
   "outputs": [],
   "source": [
    "test_patient_bills[test_patient_bills[\"Admit.Date\"] - test_patient_dx]"
   ]
  }
 ],
 "metadata": {
  "kernelspec": {
   "display_name": "Python 3",
   "language": "python",
   "name": "python3"
  },
  "language_info": {
   "codemirror_mode": {
    "name": "ipython",
    "version": 3
   },
   "file_extension": ".py",
   "mimetype": "text/x-python",
   "name": "python",
   "nbconvert_exporter": "python",
   "pygments_lexer": "ipython3",
   "version": "3.6.5"
  }
 },
 "nbformat": 4,
 "nbformat_minor": 2
}
