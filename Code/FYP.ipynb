{
 "cells": [
  {
   "cell_type": "code",
   "execution_count": 1,
   "metadata": {},
   "outputs": [],
   "source": [
    "import os\n",
    "import pandas as pd\n",
    "import numpy as np\n",
    "import sys\n",
    "import win32com.client\n",
    "import getpass\n",
    "import datetime\n",
    "import pywintypes\n",
    "import matplotlib.pyplot as plt "
   ]
  },
  {
   "cell_type": "markdown",
   "metadata": {},
   "source": [
    "# Function"
   ]
  },
  {
   "cell_type": "code",
   "execution_count": 2,
   "metadata": {},
   "outputs": [],
   "source": [
    "pd.set_option('display.width', None)\n",
    "pd.set_option('display.max_column',None)\n",
    "pd.set_option('display.max_rows',None)\n",
    "\n",
    "# excel to df\n",
    "def getDataToDF(xlws,start,end,first = False):\n",
    "    last_col = xlws.UsedRange.Columns.Count\n",
    "    header = xlws.Range(xlws.Cells(1, 1), xlws.Cells(1, last_col)).Value\n",
    "    content = xlws.Range(xlws.Cells(start, 1), xlws.Cells(end, last_col)).Value\n",
    "    \n",
    "    if first:\n",
    "        data = list(content[1:])\n",
    "    else:\n",
    "        data = list(content[0:])\n",
    "        \n",
    "    for x in range(0,len(data)):\n",
    "        data[x] = list(data[x])\n",
    "        for y in range(0,len(data[x])):\n",
    "            if isinstance(data[x][y], pywintypes.TimeType):\n",
    "                temp = str(data[x][y]).rstrip(\"+00:00\").strip()\n",
    "                if temp[:2] == '20' and int(temp[:4]) >= int(now.year):\n",
    "                    temp = '19' + temp[2:]\n",
    "                data[x][y] = datetime.datetime.strptime(temp, \"%Y-%m-%d\")\n",
    "    df = pd.DataFrame(data, columns=header[0])\n",
    "    return df\n",
    "\n",
    "def dropColCDM(CDM):\n",
    "    # create age\n",
    "    CDM['dx_date'] = pd.to_datetime(CDM['dx_date'])\n",
    "    CDM['dob'] = pd.to_datetime(CDM['dob'])\n",
    "    CDM['age'] = (CDM['dx_date'] - CDM['dob']).astype('<m8[Y]') \n",
    "\n",
    "    #fill in all null values\n",
    "    CDM.fillna(value=pd.np.nan, inplace=True)\n",
    "\n",
    "    #optional dates\n",
    "    CDM = CDM.drop(columns=[\n",
    "                           #on hold can be useful \n",
    "                          'Dx_Date > 2005',\\\n",
    "                          'dob',\\\n",
    "                          'previous_dx_date', \\\n",
    "                          'previous_stagingtype','Previous_T', 'Previous_N', 'Previous_M', 'Previous_stage',\\\n",
    "                          'lastseen',\\\n",
    "\n",
    "                          #confirm can drop\n",
    "                          'sync_ca_date','sync_ca_desc','hx_other_ca_date','hx_other_ca_desc',\\\n",
    "                          'Rx_date','srgdate',\\\n",
    "                          'X.1st_Tamoxifen','Last_Tamoxifen',\\\n",
    "                          'X.1st_Herceptin', 'Last_Herceptin',\\\n",
    "                          'neo_adj_chemo_start','neo_adj_chemo_end',\\\n",
    "\n",
    "                          #can be use to check if chemo happens\n",
    "                          'chemo_start', 'chemo_end', 'other_chemo_regimen'])\n",
    "\n",
    "    #drop unused columns\n",
    "    CDM = CDM.drop(columns=[\n",
    "                            'Has Bills?',\\\n",
    "                            'Marital_Status','Hospital', 'KKH', \"NCCS\", 'SGH',\\\n",
    "                            'comorbidity','Presentation','Doctor_In_Charge','firstsee','operation_summ','Age.Menopause', \\\n",
    "                            'Surgeon','Recurrence_Score','HistCode_WWXX',\\\n",
    "                            'er_intensity','er_percentage',\\\n",
    "                            'pr_intensity','pr_percentage',\\\n",
    "                            'cerbB2_intensity','cerbB2_percentage',\\\n",
    "                            'Size','slnb','diff','firstfail',\\\n",
    "\n",
    "                            #leave it out as of now\n",
    "                            'FISH', 'fish_ratio','hrt2_desc',\\\n",
    "                            #=========================\n",
    "                            'margins','margins_calc',\\\n",
    "                            #'neo_adj_chemo_regimen_desc',\\\n",
    "                             'treatment_remarks',\\\n",
    "                            'New_mets','Site_mets','Mets.Dx',\\\n",
    "                            'remarks','New_primary',\\\n",
    "                            'Local_Desc','Local_nontrue_desc','Nodal_recur','contra_remarks',\\\n",
    "                            'deathcode','MHA_COD',\\\n",
    "\n",
    "                            #manual entry data all can remove\n",
    "                            \"Date_for_DDFS\",\"Date_for_IBTR\",\\\n",
    "                            \"Date_for_True_Local_Recurrence\",\"Date_for_Other_Local_Recurrence\",\\\n",
    "                            \"Date_for_Nodal_Recurrence\",\\\n",
    "                            \"Date_for_Contra_Rec\",\"event_dt\",\"Date_for_DFS\",\"Date_for_OS\",\"Date_for_CSS\",\\\n",
    "                            \"Count_as_EVENTS\",\"Count_as_DFS\",\"Count_as_DDFS\",\\\n",
    "                            \"Count_as_IBTR\",\"Count_as_True_Local_Recurrence\",\"Count_as_Other_Local_Recurrence\",\\\n",
    "                            \"Count_as_Nodal_Recurrence\",\"Count_as_Contra_Rec\",\"Count_as_OS\",\"Count_as_CSS\",\\\n",
    "                            \"chestsiz_recode\",\"Chestsiz_dichotomise\",\\\n",
    "                            \"TNM_collapse\",\"TNM_I_vs_II\",\"Time_OS\",\"Time_CSS\",\"Time_IBTR\",\\\n",
    "                            \"Time_IBTRTrue\",\"Time_DFS\",\"Time_DDFS\",\"Time_ContraRec\",\\\n",
    "                            \"Age_@_Dx\",\\\n",
    "                            \"Histo_subtype\",\"Histo_subtype_collapse\",\"Histo_subtype_collapser\",\\\n",
    "                            \"subtype_stg2013\",\"subtype_stg2013_lumb\",\\\n",
    "                            \"Triple_Neg\",\"resident\",\"mastect\",\"surgfirst\",\\\n",
    "                            \"Date_for_IDFS\",\"Date_for_DSS\",\"Date_for_RFS\",\\\n",
    "                            \"Count_as_IDFS\",\"Count_as_DSS\", \"Count_as_RFS\",\\\n",
    "                            \"Time_IDFS\",\"Time_DSS\",\"Time_RFS\",\"END_OF_ENTRY\",\\\n",
    "                            ])\n",
    "    return CDM\n",
    "\n",
    "def oneHotEncode(CDM):\n",
    "    #one hot encoding\n",
    "    listToDo = ['Side','Gender', 'Race', 'Smoker', 'Alcohol',\\\n",
    "                'ECOG','Oral_Contraceptive', 'famhx','Breast_Feed','Menopause_Status',\\\n",
    "                'Hor_replacement','Breast_surgery','Recon','Reconstruction', 'Genomic_Test', 'Site','Histology',\\\n",
    "                'c_tstage','cNstage','cMstage','c_Staging','tstage','nstage','Mstage',\\\n",
    "                'p_Staging','Ajcc8_phyllodes_tstage','TNM_Stage','ProgStage_AJCC8','AJCC8_Staging','ER',\\\n",
    "                'PR','cerbB2','Her2','Multi_focality','Multi_centricity','Extensive_Intraductal_Component',\\\n",
    "                'Comedo_Necrosis','Pleomorphism','VNPI','invasion','False_Negative_SLNB',\\\n",
    "                'Non_SLN','ac','AClevel','TMX','hrt','hrt2','Targeted','technique',\\\n",
    "                'Neo_Adjuvant','neo_adj_chemo_regimen','chemo','Chemo_Intent_not_neoadj','chemo_regimen','RT',\n",
    "                'RT_intent','RT_Technique','field','dose','scdose','midplane','intmamm','TreatmentCycleType',\\\n",
    "                'First_Fail','Second_Fail','Third_Fail','status','cause_of_death']\n",
    "    for x in listToDo:\n",
    "        CDM = pd.concat([CDM,pd.get_dummies(CDM[x], prefix=x,dummy_na=True)],axis=1)\n",
    "        CDM.drop([x],axis=1, inplace=True)\n",
    "        \n",
    "    return CDM\n",
    "        \n",
    "def outToCSV(df,filename):\n",
    "    if os.path.exists('./{}'.format(filename)):\n",
    "        df.to_csv(path_or_buf=filename,header=None,index=False,mode=\"a\")\n",
    "    else:\n",
    "        df.to_csv(path_or_buf=filename,header=True,index=False)"
   ]
  },
  {
   "cell_type": "markdown",
   "metadata": {},
   "source": [
    "# Main Process"
   ]
  },
  {
   "cell_type": "code",
   "execution_count": 3,
   "metadata": {},
   "outputs": [
    {
     "name": "stderr",
     "output_type": "stream",
     "text": [
      "C:\\Users\\LINGXING\\Anaconda3\\lib\\site-packages\\IPython\\core\\interactiveshell.py:2785: DtypeWarning: Columns (8,14,15,32) have mixed types. Specify dtype option on import or set low_memory=False.\n",
      "  interactivity=interactivity, compiler=compiler, result=result)\n"
     ]
    }
   ],
   "source": [
    "if os.path.exists('./output.csv'):\n",
    "    CDM = pd.read_csv('output.csv')\n",
    "else:\n",
    "    # primary set up\n",
    "    xlApp = win32com.client.Dispatch(\"Excel.Application\")\n",
    "    xlApp.Interactive = False\n",
    "    xlApp.Visible = False\n",
    "\n",
    "    # cwd = os.getcwd()\n",
    "    cwd = \"C:\"\n",
    "    path = str(cwd + \"\\\\SMU_v2\\\\\")\n",
    "    files = os.listdir(path)\n",
    "\n",
    "    # Put files into dataframe dict\n",
    "    df_list = {}\n",
    "\n",
    "    #require user input for password\n",
    "    pwd = getpass.getpass('Enter file password: ')\n",
    "\n",
    "    # Pick out 'xlsx' files:\n",
    "    files_xls = [f for f in files if f[-4:] == 'xlsx']\n",
    "\n",
    "    x = 1\n",
    "    now = datetime.datetime.now()\n",
    "\n",
    "    for f in files_xls:\n",
    "        xlwb = xlApp.Workbooks.Open(path+f, False, True, None, pwd)\n",
    "        xlws = xlwb.Worksheets(1) \n",
    "        last_row = xlws.UsedRange.Rows.Count\n",
    "\n",
    "        if \"Clinical\" in f:\n",
    "\n",
    "            numberOfTimes = int(last_row/5000) + 1\n",
    "            \n",
    "            for i in range(1,numberOfTimes+1):\n",
    "\n",
    "                start = (i-1)*5000 + 1\n",
    "                end = i*5000\n",
    "\n",
    "                ### get data from excel to df ###\n",
    "                # first set of 1000 rows requires header\n",
    "                # for all remaining rows\n",
    "                # last set of 1000 take to the last row used\n",
    "                # drop all unused cols\n",
    "                # one hot encode data\n",
    "                # store to CSV\n",
    "                # status update\n",
    "                \n",
    "                if i == 1:  \n",
    "                    CDM = getDataToDF(xlws,start,end, True)\n",
    "                else:\n",
    "                    if i == numberOfTimes: \n",
    "                        end = last_row\n",
    "                    CDM = getDataToDF(xlws,start,end)\n",
    "                CDM = dropColCDM(CDM)\n",
    "                CDM = oneHotEncode(CDM)\n",
    "                outToCSV(CDM,'output.csv')  \n",
    "                print(\"Row {} to {} write to cvs.\".format(start,end))\n",
    "        else:\n",
    "            # create name for bill dataframe\n",
    "            billName = 'bill{}'.format(x)\n",
    "\n",
    "    # #         rows to loop each time\n",
    "    #         rowToDo = \n",
    "    #         cvsName = \"\"\n",
    "    # #         put individual bill df to df_list\n",
    "    #         df_list[billName] = getDataToDF(xlws,rowToDo)\n",
    "            x+=1\n",
    "\n",
    "        #reset variables\n",
    "        xlws = None\n",
    "        xlwb.Close(False)\n",
    "        xlwb = None\n",
    "\n",
    "    #remove buffer and reset system settings\n",
    "    xlApp.Interactive = True\n",
    "    xlApp.Visible = True\n",
    "    xlApp.Quit()\n",
    "    xlApp = None"
   ]
  },
  {
   "cell_type": "code",
   "execution_count": 4,
   "metadata": {},
   "outputs": [
    {
     "name": "stdout",
     "output_type": "stream",
     "text": [
      "<class 'pandas.core.frame.DataFrame'>\n",
      "RangeIndex: 26139 entries, 0 to 26138\n",
      "Columns: 657 entries, NRIC to cause_of_death_nan\n",
      "dtypes: float64(127), int64(518), object(12)\n",
      "memory usage: 141.4 MB\n"
     ]
    }
   ],
   "source": [
    "CDM.info(memory_usage='deep')"
   ]
  },
  {
   "cell_type": "code",
   "execution_count": null,
   "metadata": {},
   "outputs": [],
   "source": []
  },
  {
   "cell_type": "code",
   "execution_count": null,
   "metadata": {},
   "outputs": [],
   "source": [
    "from sklearn.feature_selection import SelectKBest\n",
    "from sklearn.feature_selection import chi2\n",
    "X = CDM.iloc[:,0:20]  #independent columns\n",
    "y = CDM.iloc[:,-1]    #target column i.e price range\n",
    "\n",
    "#apply SelectKBest class to extract top 100 best features\n",
    "bestfeatures = SelectKBest(score_func=chi2, k=100)\n",
    "fit = bestfeatures.fit(X,y)\n",
    "dfscores = pd.DataFrame(fit.scores_)\n",
    "dfcolumns = pd.DataFrame(X.columns)\n",
    "#concat two dataframes for better visualization \n",
    "featureScores = pd.concat([dfcolumns,dfscores],axis=1)\n",
    "featureScores.columns = ['Specs','Score']  #naming the dataframe columns\n",
    "print(featureScores.nlargest(100,'Score'))  #print 10 best features"
   ]
  },
  {
   "cell_type": "markdown",
   "metadata": {},
   "source": [
    "# MY"
   ]
  },
  {
   "cell_type": "code",
   "execution_count": null,
   "metadata": {},
   "outputs": [],
   "source": [
    "#for bills\n",
    "test_patient = \"4b6ac0036ae2a4e8e6c3\"\n",
    "# 'Bills Data_10-12k (MASKED)v2.xlsx', 'Bills Data_12-14k (MASKED)v2.xlsx', 'Bills Data_14-16k (MASKED)v2.xlsx', 'Bills Data_16-18k (MASKED)v2.xlsx', 'Bills Data_18-20k (MASKED)v2.xlsx', 'Bills Data_1st 2k (MASKED)v2.xlsx', 'Bills Data_2-4k (MASKED)v2.xlsx', 'Bills Data_20-22k (MASKED)v2.xlsx', 'Bills Data_22-24k (MASKED)v2.xlsx', 'Bills Data_24-26k (MASKED)v2.xlsx', 'Bills Data_4-6k (MASKED)v2.xlsx', 'Bills Data_6-8k (MASKED)v2.xlsx', 'Bills Data_8-10k (MASKED)v2.xlsx', 'Bills Data_last 1k (MASKED)v2.xlsx', 'Breast Database Dictionary SMU_v2.xlsx', 'Clinical Data_Masked_v2.xlsx', 'Mapping for service code.xlsx'\n",
    "bills = df_list['Bills Data_last 1k (MASKED)v2.xlsx']\n",
    "patients = df_list['Clinical Data_Masked_v2.xlsx']"
   ]
  },
  {
   "cell_type": "code",
   "execution_count": null,
   "metadata": {},
   "outputs": [],
   "source": [
    "test_patient_bills = bills[bills[\"Patient.ID\"]==test_patient]\n",
    "est_patient_dx = patients[patients[\"NRIC\"]==test_patient]['dx_date']"
   ]
  },
  {
   "cell_type": "code",
   "execution_count": null,
   "metadata": {},
   "outputs": [],
   "source": [
    "earliest_date = test_patient_dx - pd.tseries.offsets.MonthOffset(6)\n",
    "earliest_date = earliest_date.values[0]"
   ]
  },
  {
   "cell_type": "code",
   "execution_count": null,
   "metadata": {},
   "outputs": [],
   "source": [
    "latest_date =min(pd.to_datetime('now').to_datetime64(), (test_patient_dx + pd.tseries.offsets.MonthOffset(120)).values[0])"
   ]
  },
  {
   "cell_type": "code",
   "execution_count": null,
   "metadata": {},
   "outputs": [],
   "source": [
    "#only looking at bills from NCC\n",
    "test_patient_bills = test_patient_bills[test_patient_bills['Institution.Code'] == \"NCC\"]"
   ]
  },
  {
   "cell_type": "code",
   "execution_count": null,
   "metadata": {},
   "outputs": [],
   "source": [
    "#remove all bills not in the range of dates from 6 months before diagnosis and 10 years after diagnosis\n",
    "test_patient_bills[\"Service.Date.From.Date\"]"
   ]
  },
  {
   "cell_type": "code",
   "execution_count": null,
   "metadata": {},
   "outputs": [],
   "source": [
    "resampled = test_patient_bills[[\"Net.Payable\",\"Service.Date.From.Date\"]].resample(\"3M\",on = \"Service.Date.From.Date\").sum()"
   ]
  },
  {
   "cell_type": "code",
   "execution_count": null,
   "metadata": {},
   "outputs": [],
   "source": [
    "resampled.mean()"
   ]
  },
  {
   "cell_type": "code",
   "execution_count": null,
   "metadata": {},
   "outputs": [],
   "source": [
    "test_patient_dx"
   ]
  },
  {
   "cell_type": "code",
   "execution_count": null,
   "metadata": {},
   "outputs": [],
   "source": [
    "test_patient_bills[test_patient_bills[\"Admit.Date\"] - test_patient_dx]"
   ]
  }
 ],
 "metadata": {
  "kernelspec": {
   "display_name": "Python 3",
   "language": "python",
   "name": "python3"
  },
  "language_info": {
   "codemirror_mode": {
    "name": "ipython",
    "version": 3
   },
   "file_extension": ".py",
   "mimetype": "text/x-python",
   "name": "python",
   "nbconvert_exporter": "python",
   "pygments_lexer": "ipython3",
   "version": "3.6.5"
  }
 },
 "nbformat": 4,
 "nbformat_minor": 2
}
