{
 "cells": [
  {
   "cell_type": "code",
   "execution_count": null,
   "metadata": {},
   "outputs": [],
   "source": [
    "import os\n",
    "import pandas as pd\n",
    "import numpy as np\n",
    "import sys\n",
    "import win32com.client\n",
    "import getpass\n",
    "import datetime\n",
    "import pywintypes\n",
    "import matplotlib.pyplot as plt\n",
    "import pickle\n",
    "%matplotlib inline"
   ]
  },
  {
   "cell_type": "markdown",
   "metadata": {},
   "source": [
    "# Function"
   ]
  },
  {
   "cell_type": "code",
   "execution_count": null,
   "metadata": {},
   "outputs": [],
   "source": [
    "pd.set_option('display.width', None)\n",
    "pd.set_option('display.max_column',None)\n",
    "pd.set_option('display.max_rows',None)\n",
    "\n",
    "# excel to df\n",
    "def getDataToDF(xlws,start,end,first = False):\n",
    "    last_col = xlws.UsedRange.Columns.Count\n",
    "    header = xlws.Range(xlws.Cells(1, 1), xlws.Cells(1, last_col)).Value\n",
    "    content = xlws.Range(xlws.Cells(start, 1), xlws.Cells(end, last_col)).Value\n",
    "    \n",
    "    if first:\n",
    "        data = list(content[1:])\n",
    "    else:\n",
    "        data = list(content[0:])\n",
    "        \n",
    "    for x in range(0,len(data)):\n",
    "        data[x] = list(data[x])\n",
    "        for y in range(0,len(data[x])):\n",
    "            if isinstance(data[x][y], pywintypes.TimeType):\n",
    "                temp = str(data[x][y]).rstrip(\"+00:00\").strip()\n",
    "                if temp[:2] == '20' and int(temp[:4]) >= int(now.year):\n",
    "                    temp = '19' + temp[2:]\n",
    "                data[x][y] = datetime.datetime.strptime(temp, \"%Y-%m-%d\")\n",
    "    df = pd.DataFrame(data, columns=header[0])\n",
    "    df.fillna(value=pd.np.nan, inplace=True)\n",
    "    return df\n",
    "\n",
    "def processCol(df):                \n",
    "    ####need to compute timeOS\n",
    "            \n",
    "    #for those dropdown variables in dictionary\n",
    "    toDoDict = {}\n",
    "    toDoDict['Gender'] = [('1','2','4','5','6','9997','9998','9999'),\n",
    "                          ['Male','Female','Transsexual, NOS','Transsexual, natal male','Transsexual, natal female','NA',\n",
    "                           'Others (intersex, disorders of sexual development/DSD)','Unknown']]\n",
    "    toDoDict['c_tstage'] = [('1','2','3','4','5','6','7','8','9','11','12','13','41','42','43','44'),\n",
    "                            ['T1','T2','T3','T4','Tx','T0','Tis','T1mic','unknown','T1a','T1b','T1c',\\\n",
    "                             'T4a','T4b','T4c','T4d']]\n",
    "    toDoDict['cNstage'] = [('1','2','3','4','9','10','31','32','41','42','43'),\n",
    "                           ['N0','N1','N2','N3','Nx','unknown','N2a','N2b','N3a','N3b','N3c']]\n",
    "    toDoDict['cMstage'] = [('0','1','2','3','4','5','6','9997','9999'),\n",
    "                           ['MX','M0','M1','M1a','M1b','M1c','M2','NA','Unknown']]     \n",
    "    toDoDict['c_Staging'] = [('0','1','2','3','4','5','6','7','9','10','11','12','31','41'),\n",
    "                             ['DCIS/LCIS non-invasive','Stage 1','Stage 2A','Stage 2B',\\\n",
    "                              'Stage 3A','Stage 3B','Stage 3C','Stage 4','Unknown','Stage 0',\\\n",
    "                              'Stage 1A','Stage 1B','Stage 2','Stage 3']] \n",
    "    toDoDict['tstage'] = [('1','2','3','4','5','6','7','8','9','11','12','13','41','42','43','44'),\n",
    "                          ['T1','T2','T3','T4','Tx','T0','Tis','T1mic','unknown','T1a','T1b','T1c',\\\n",
    "                           'T4a','T4b','T4c','T4d']] \n",
    "    toDoDict['nstage'] = [('1','2','3','4','5','6','9','10','21','22','23','31','32','41','42','43'),\n",
    "                          ['N0','N1','N2','N3','N1mic','N0 (i+)','Nx','unknown','N1a','N1b','N1c',\\\n",
    "                           'N2a','N2b','N3a','N3b','N3c']]\n",
    "    toDoDict['Mstage'] = [('1','2','3','9'),('M0','M1','Mx','unknown')] \n",
    "    toDoDict['p_Staging'] = [('0','1','2','3','4','5','6','7','9','10','11','12','31','41'),\n",
    "                             ['DCIS/LCIS non-invasive','Stage 1','Stage 2A','Stage 2B',\\\n",
    "                              'Stage 3A','Stage 3B','Stage 3C','Stage 4','Unknown','Stage 0',\\\n",
    "                              'Stage 1A','Stage 1B','Stage 2','Stage 3']]\n",
    "    toDoDict['diff'] = [('0','1','2','3','9'),['grade 0','grade 1','grade 2','grade 3','unknown']] \n",
    "    toDoDict['TNM_Stage'] = [('0','1','2','3','4','5','6','7','9','10','11','12','13','31'),\n",
    "                             ['DCIS/LCIS non-invasive','stage 1','stage 2A','stage 2B',\\\n",
    "                              'stage 3A','stage 3B','stage 3C','stage 4','Unknown','Stage 0',\\\n",
    "                              'stage 1A','stage 1B','Stage 3','stage 2']]\n",
    "    toDoDict['ProgStage_AJCC8'] = [('0','4','11','12','21','22','31','32','33'),\n",
    "                                   ['Stage 0','Stage IV','Stage IA','Stage IB','Stage IIA',\\\n",
    "                                   'Stage IIB','Stage IIIA','Stage IIIB','Stage IIIC']] \n",
    "    toDoDict['ER'] = [('1','2','3','4'),['positive','negative','unknown','Equivocal']] \n",
    "    toDoDict['PR'] = [('1','2','3','4'),['positive','negative','unknown','Equivocal']]\n",
    "    toDoDict['cerbB2'] = [('1','2','3','4'),['positive','negative','unknown','Equivocal']]\n",
    "    toDoDict['Her2'] = [('1','2','3','4','9'),['Positive','Negative','Not Done','Equivocal','Unknown']]\n",
    "    toDoDict['cause_of_death'] = [('1','2','9'),['breast cancer related','N','unknown']]\n",
    "    toDoDict['Count_as_DFS'] = [('0','1'),['N' ,'Disease recurrence ANY']]\n",
    "    toDoDict['Count_as_OS'] = [('0','1'),['N' ,'Dead']]\n",
    "    \n",
    "    tmp = df.copy(deep=True)\n",
    "    for k,v in toDoDict.items():\n",
    "#         print(\"Shape before drop at {}: {}, {}\".format(k,df.shape, tmp.shape))\n",
    "        \n",
    "        v[1] = [x.lower() for x in v[1]]\n",
    "        df[k].replace(to_replace =v[0],\\\n",
    "                      value = v[1],\\\n",
    "                      inplace = True)\n",
    "        df[k] = df[k].str.lower()\n",
    "        \n",
    "        # allow null values\n",
    "        v[1].append(pd.np.nan)\n",
    "        \n",
    "        # drop abnormal values   \n",
    "        df.drop(df.loc[~df[k].isin(v[1])].index, inplace=True)\n",
    "        \n",
    "#         print(\"Shape after drop at {}: {}, {}\".format(k, df.shape, tmp.shape))\n",
    "\n",
    "    DateList =  {\"death_age\":('death','dob')}\n",
    "    for k,v in DateList.items():\n",
    "        df[v[0]] = pd.to_datetime(df[v[0]])\n",
    "        df[v[1]] = pd.to_datetime(df[v[1]])\n",
    "        df[k] = (df[v[0]] - df[v[1]]).dt.days\n",
    "        df[k] = df[k].floordiv(365, fill_value = pd.np.nan) \n",
    "        df = df.drop(columns=v[0])\n",
    "    return df, tmp\n",
    "\n",
    "def dropColCDM(df, listToDrop):\n",
    "    df = df.drop(columns=listToDrop)\n",
    "    return df\n",
    "\n",
    "def oneHotEncode(df, listToDo):\n",
    "    for x in listToDo:\n",
    "        df = pd.concat([df,pd.get_dummies(df[x], prefix=x, dummy_na=True)],axis=1)\n",
    "        df.drop([x],axis=1, inplace=True)        \n",
    "    return df\n",
    "        \n",
    "def outToPickle(df,filename):\n",
    "    with open(filename, 'wb') as f:\n",
    "        pickle.dump(df, f)"
   ]
  },
  {
   "cell_type": "markdown",
   "metadata": {},
   "source": [
    "# Main Process"
   ]
  },
  {
   "cell_type": "code",
   "execution_count": null,
   "metadata": {
    "scrolled": true
   },
   "outputs": [],
   "source": [
    "FileToCheck = 'C:\\\\SMU_v2\\\\output.pkl'\n",
    "\n",
    "if os.path.exists(FileToCheck):\n",
    "    with open(FileToCheck, 'rb') as f:\n",
    "        CDM = pickle.load(f)\n",
    "else:\n",
    "    # primary set up\n",
    "    xlApp = win32com.client.Dispatch(\"Excel.Application\")\n",
    "    xlApp.Interactive = False\n",
    "    xlApp.Visible = False\n",
    "\n",
    "    # cwd = os.getcwd()\n",
    "    cwd = \"C:\"\n",
    "    path = str(cwd + \"\\\\SMU_v2\\\\\")\n",
    "    files = os.listdir(path)\n",
    "\n",
    "    # Put files into dataframe dict\n",
    "    df_list = {}\n",
    "\n",
    "    #require user input for password\n",
    "    pwd = getpass.getpass('Enter file password: ')\n",
    "\n",
    "    # Pick out 'xlsx' files:\n",
    "    files_xls = [f for f in files if f[-4:] == 'xlsx']\n",
    "\n",
    "    now = datetime.datetime.now()\n",
    "\n",
    "    for f in files_xls:\n",
    "        xlwb = xlApp.Workbooks.Open(path+f, False, True, None, pwd)\n",
    "        xlws = xlwb.Worksheets(1) \n",
    "        last_row = xlws.UsedRange.Rows.Count\n",
    "\n",
    "        if \"Clinical\" in f:\n",
    "                CDM = getDataToDF(xlws,1,last_row )\n",
    "                listToKeep = ['NRIC','dob','Gender','dx_date','c_tstage','cNstage','cMstage','c_Staging','tstage',\\\n",
    "                              'nstage','Mstage','p_Staging','diff','TNM_Stage','ProgStage_AJCC8','ER','PR',\\\n",
    "                             'cerbB2','Her2','size_precise','nodespos','cause_of_death','Date_for_DFS','Date_for_OS',\\\n",
    "                             'Count_as_DFS','Count_as_OS','Age_@_Dx','death']\n",
    "                listToDrop = [i for i in CDM.columns if i not in listToKeep]\n",
    "\n",
    "                CDM = dropColCDM(CDM,listToDrop)\n",
    "                CDM,tmp = processCol(CDM)\n",
    "                \n",
    "                listToDoforOHE = ['Gender','c_tstage','cNstage','cMstage','c_Staging','tstage','nstage','Mstage',\\\n",
    "                                  'p_Staging','diff','TNM_Stage','ProgStage_AJCC8','ER','PR','cerbB2','Her2',\\\n",
    "                                  'cause_of_death','Count_as_DFS','Count_as_OS']\n",
    "                \n",
    "                CDM = oneHotEncode(CDM,listToDoforOHE)\n",
    "                outToPickle(CDM,FileToCheck )  \n",
    "        else:\n",
    "            # create name for bill dataframe\n",
    "            billName = 'bill{}'.format(x)\n",
    "    # #         rows to loop each time\n",
    "    #         rowToDo = \n",
    "    #         cvsName = \"\"\n",
    "    # #         put individual bill df to df_list\n",
    "    #         df_list[billName] = getDataToDF(xlws,rowToDo)\n",
    "            x+=1\n",
    "\n",
    "        #reset variables\n",
    "        xlws = None\n",
    "        xlwb.Close(False)\n",
    "        xlwb = None\n",
    "\n",
    "    #remove buffer and reset system settings\n",
    "    xlApp.Interactive = True\n",
    "    xlApp.Visible = True\n",
    "    xlApp.Quit()\n",
    "    xlApp = None"
   ]
  },
  {
   "cell_type": "code",
   "execution_count": null,
   "metadata": {},
   "outputs": [],
   "source": [
    "CDM.head(2)"
   ]
  },
  {
   "cell_type": "code",
   "execution_count": null,
   "metadata": {},
   "outputs": [],
   "source": [
    "# CDM[['death_age']].plot(kind='hist',bins=[0,20,40,60,80,100],rwidth=0.8)\n",
    "# plt.show()\n",
    "CDM['death_age']"
   ]
  },
  {
   "cell_type": "code",
   "execution_count": null,
   "metadata": {},
   "outputs": [],
   "source": [
    "from sklearn.feature_selection import SelectKBest\n",
    "from sklearn.feature_selection import chi2\n",
    "\n",
    "\n",
    "X = CDM.iloc[:,0:20]  #independent columns\n",
    "y = CDM.iloc[:,-1]    #target column i.e price range\n",
    "\n",
    "#apply SelectKBest class to extract top 100 best features\n",
    "bestfeatures = SelectKBest(score_func=chi2, k=100)\n",
    "fit = bestfeatures.fit(X,y)\n",
    "dfscores = pd.DataFrame(fit.scores_)\n",
    "dfcolumns = pd.DataFrame(X.columns)\n",
    "#concat two dataframes for better visualization \n",
    "featureScores = pd.concat([dfcolumns,dfscores],axis=1)\n",
    "featureScores.columns = ['Specs','Score']  #naming the dataframe columns\n",
    "print(featureScores.nlargest(100,'Score'))  #print 10 best features"
   ]
  },
  {
   "cell_type": "markdown",
   "metadata": {},
   "source": [
    "# MY"
   ]
  },
  {
   "cell_type": "code",
   "execution_count": null,
   "metadata": {},
   "outputs": [],
   "source": [
    "#for bills\n",
    "test_patient = \"4b6ac0036ae2a4e8e6c3\"\n",
    "# 'Bills Data_10-12k (MASKED)v2.xlsx', 'Bills Data_12-14k (MASKED)v2.xlsx', 'Bills Data_14-16k (MASKED)v2.xlsx', 'Bills Data_16-18k (MASKED)v2.xlsx', 'Bills Data_18-20k (MASKED)v2.xlsx', 'Bills Data_1st 2k (MASKED)v2.xlsx', 'Bills Data_2-4k (MASKED)v2.xlsx', 'Bills Data_20-22k (MASKED)v2.xlsx', 'Bills Data_22-24k (MASKED)v2.xlsx', 'Bills Data_24-26k (MASKED)v2.xlsx', 'Bills Data_4-6k (MASKED)v2.xlsx', 'Bills Data_6-8k (MASKED)v2.xlsx', 'Bills Data_8-10k (MASKED)v2.xlsx', 'Bills Data_last 1k (MASKED)v2.xlsx', 'Breast Database Dictionary SMU_v2.xlsx', 'Clinical Data_Masked_v2.xlsx', 'Mapping for service code.xlsx'\n",
    "bills = df_list['Bills Data_last 1k (MASKED)v2.xlsx']\n",
    "patients = df_list['Clinical Data_Masked_v2.xlsx']"
   ]
  },
  {
   "cell_type": "code",
   "execution_count": null,
   "metadata": {},
   "outputs": [],
   "source": [
    "test_patient_bills = bills[bills[\"Patient.ID\"]==test_patient]\n",
    "est_patient_dx = patients[patients[\"NRIC\"]==test_patient]['dx_date']"
   ]
  },
  {
   "cell_type": "code",
   "execution_count": null,
   "metadata": {},
   "outputs": [],
   "source": [
    "earliest_date = test_patient_dx - pd.tseries.offsets.MonthOffset(6)\n",
    "earliest_date = earliest_date.values[0]"
   ]
  },
  {
   "cell_type": "code",
   "execution_count": null,
   "metadata": {},
   "outputs": [],
   "source": [
    "latest_date =min(pd.to_datetime('now').to_datetime64(), (test_patient_dx + pd.tseries.offsets.MonthOffset(120)).values[0])"
   ]
  },
  {
   "cell_type": "code",
   "execution_count": null,
   "metadata": {},
   "outputs": [],
   "source": [
    "#only looking at bills from NCC\n",
    "test_patient_bills = test_patient_bills[test_patient_bills['Institution.Code'] == \"NCC\"]"
   ]
  },
  {
   "cell_type": "code",
   "execution_count": null,
   "metadata": {},
   "outputs": [],
   "source": [
    "#remove all bills not in the range of dates from 6 months before diagnosis and 10 years after diagnosis\n",
    "test_patient_bills[\"Service.Date.From.Date\"]"
   ]
  },
  {
   "cell_type": "code",
   "execution_count": null,
   "metadata": {},
   "outputs": [],
   "source": [
    "resampled = test_patient_bills[[\"Net.Payable\",\"Service.Date.From.Date\"]].resample(\"3M\",on = \"Service.Date.From.Date\").sum()"
   ]
  },
  {
   "cell_type": "code",
   "execution_count": null,
   "metadata": {},
   "outputs": [],
   "source": [
    "resampled.mean()"
   ]
  },
  {
   "cell_type": "code",
   "execution_count": null,
   "metadata": {},
   "outputs": [],
   "source": [
    "test_patient_dx"
   ]
  },
  {
   "cell_type": "code",
   "execution_count": null,
   "metadata": {},
   "outputs": [],
   "source": [
    "test_patient_bills[test_patient_bills[\"Admit.Date\"] - test_patient_dx]"
   ]
  }
 ],
 "metadata": {
  "kernelspec": {
   "display_name": "Python 3",
   "language": "python",
   "name": "python3"
  },
  "language_info": {
   "codemirror_mode": {
    "name": "ipython",
    "version": 3
   },
   "file_extension": ".py",
   "mimetype": "text/x-python",
   "name": "python",
   "nbconvert_exporter": "python",
   "pygments_lexer": "ipython3",
   "version": "3.6.5"
  }
 },
 "nbformat": 4,
 "nbformat_minor": 2
}
