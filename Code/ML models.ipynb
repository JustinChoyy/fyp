{
 "cells": [
  {
   "cell_type": "code",
   "execution_count": null,
   "metadata": {},
   "outputs": [],
   "source": [
    "import os\n",
    "import pandas as pd\n",
    "import numpy as np\n",
    "import sys\n",
    "import win32com.client\n",
    "import getpass\n",
    "import datetime\n",
    "import pywintypes\n",
    "import matplotlib.pyplot as plt\n",
    "import pickle\n",
    "%matplotlib inline"
   ]
  },
  {
   "cell_type": "markdown",
   "metadata": {},
   "source": [
    "<h2>ANN</h2>"
   ]
  },
  {
   "cell_type": "code",
   "execution_count": null,
   "metadata": {},
   "outputs": [],
   "source": [
    "bills_clean = pd.read_pickle('C:\\\\SMU_v2\\\\bills_output_datefiltered.pkl')\n",
    "CDM = pd.read_pickle(\"C:\\\\SMU_v2\\\\output.pkl\")\n",
    "        \n",
    "clinical = CDM.drop(['dob','cause_of_death','death_age',\\\n",
    "                     'Date_for_DFS','Date_for_OS', 'Date_for_CSS',\\\n",
    "                     'Count_as_DFS', 'Count_as_OS','Count_as_CSS'], axis=1)\n",
    "\n",
    "OHE = [i for i in clinical.columns if not (i in  [\"NRIC\", 'Age_@_Dx', 'size_precise', 'nodespos','dx_date'])]\n",
    "x_clinical = pd.get_dummies(clinical,columns=OHE,dummy_na=True)"
   ]
  },
  {
   "cell_type": "code",
   "execution_count": null,
   "metadata": {},
   "outputs": [],
   "source": [
    "prices_grouped = pd.read_pickle(\"C:\\\\SMU_v2\\\\price_timeperiod.pkl\")"
   ]
  },
  {
   "cell_type": "code",
   "execution_count": null,
   "metadata": {},
   "outputs": [],
   "source": [
    "from sklearn.preprocessing import MinMaxScaler\n",
    "mms = MinMaxScaler()\n",
    "prices_grouped_scaled = pd.DataFrame(mms.fit_transform(prices_grouped))"
   ]
  },
  {
   "cell_type": "code",
   "execution_count": null,
   "metadata": {},
   "outputs": [],
   "source": [
    "#ann model\n",
    "import tensorflow as tf\n",
    "from tensorflow.keras import layers\n",
    "from sklearn import preprocessing\n",
    "from sklearn.model_selection import train_test_split"
   ]
  },
  {
   "cell_type": "code",
   "execution_count": null,
   "metadata": {},
   "outputs": [],
   "source": [
    "y = prices_grouped_scaled\n",
    "X = x_clinical.drop(columns=[\"NRIC\",\"dx_date\"])"
   ]
  },
  {
   "cell_type": "code",
   "execution_count": null,
   "metadata": {},
   "outputs": [],
   "source": [
    "X_train, X_test, y_train, y_test = train_test_split(X, y, test_size=0.33, random_state=42)"
   ]
  },
  {
   "cell_type": "code",
   "execution_count": null,
   "metadata": {},
   "outputs": [],
   "source": [
    "X.shape"
   ]
  },
  {
   "cell_type": "code",
   "execution_count": null,
   "metadata": {},
   "outputs": [],
   "source": [
    "y.shape"
   ]
  },
  {
   "cell_type": "code",
   "execution_count": null,
   "metadata": {},
   "outputs": [],
   "source": [
    "model = tf.keras.Sequential()\n",
    "model.add(layers.Dense(128, input_shape=(153,)))         # input layer\n",
    "model.add(layers.Dense(128, activation=tf.nn.leaky_relu))      # one hidden layer\n",
    "model.add(layers.Dense(64, activation=tf.nn.leaky_relu))      # one hidden layer\n",
    "model.add(layers.Dense(64, activation=tf.nn.leaky_relu))      # one hidden layer\n",
    "model.add(layers.Dense(64, activation=tf.nn.leaky_relu))      # one hidden layer\n",
    "model.add(layers.Dense(32, activation=tf.nn.leaky_relu))      # one hidden layer\n",
    "model.add(layers.Dense(32, activation=tf.nn.leaky_relu))      # one hidden layer\n",
    "model.add(layers.Dense(32, activation=tf.nn.leaky_relu))      # one hidden layer\n",
    "model.add(layers.Dense(32, activation=tf.nn.leaky_relu))      # one hidden layer\n",
    "model.add(layers.Dense(32, activation=tf.nn.sigmoid))      # one hidden layer\n",
    "model.add(layers.Dense(32, activation=tf.nn.leaky_relu))      # one hidden layer\n",
    "model.add(layers.Dense(32, activation=tf.nn.leaky_relu))      # one hidden layer\n",
    "model.add(layers.Dense(32, activation=tf.nn.leaky_relu))      # one hidden layer\n",
    "model.add(layers.Dense(32, activation=tf.nn.leaky_relu))      # one hidden layer\n",
    "model.add(layers.Dense(32, activation=tf.nn.sigmoid))      # one hidden layer\n",
    "model.add(layers.Dense(32, activation=tf.nn.leaky_relu))      # one hidden layer\n",
    "model.add(layers.Dense(32, activation=tf.nn.leaky_relu))      # one hidden layer\n",
    "model.add(layers.Dense(6, activation=tf.nn.leaky_relu))   # one output layer with 1 outputs"
   ]
  },
  {
   "cell_type": "code",
   "execution_count": null,
   "metadata": {},
   "outputs": [],
   "source": [
    "# Compile the model with appropriate Loss function. metrics is something you can monitor (but model does not optimize metrc)\n",
    "model.compile(optimizer=tf.train.AdamOptimizer(), \n",
    "              loss='mean_squared_error')"
   ]
  },
  {
   "cell_type": "code",
   "execution_count": null,
   "metadata": {
    "scrolled": true
   },
   "outputs": [],
   "source": [
    "# Run the stochastic gradient descent for specified epochs\n",
    "epochs = 100\n",
    "model.fit(X_train, y_train, epochs=epochs)"
   ]
  },
  {
   "cell_type": "code",
   "execution_count": null,
   "metadata": {},
   "outputs": [],
   "source": [
    "test_loss = model.evaluate(X_test, y_test)"
   ]
  },
  {
   "cell_type": "code",
   "execution_count": null,
   "metadata": {},
   "outputs": [],
   "source": [
    "pred = model.predict(X_test)"
   ]
  },
  {
   "cell_type": "code",
   "execution_count": null,
   "metadata": {},
   "outputs": [],
   "source": [
    "predictions = pd.DataFrame(pred,columns=[\"6 months before\", \"6 months after\", \"1 year after\", \"2 years after\", \"5 years after\", \"10 years after\"])"
   ]
  },
  {
   "cell_type": "code",
   "execution_count": null,
   "metadata": {},
   "outputs": [],
   "source": [
    "predictions_scaled_reverse = pd.DataFrame(mms.inverse_transform(predictions))\n",
    "y_test_scaled_reverse = pd.DataFrame(mms.inverse_transform(y_test))"
   ]
  },
  {
   "cell_type": "code",
   "execution_count": null,
   "metadata": {},
   "outputs": [],
   "source": [
    "predictions_scaled_reverse.head()"
   ]
  },
  {
   "cell_type": "code",
   "execution_count": null,
   "metadata": {},
   "outputs": [],
   "source": [
    "y_test_scaled_reverse.head()"
   ]
  },
  {
   "cell_type": "code",
   "execution_count": null,
   "metadata": {},
   "outputs": [],
   "source": []
  }
 ],
 "metadata": {
  "kernelspec": {
   "display_name": "Python 3",
   "language": "python",
   "name": "python3"
  },
  "language_info": {
   "codemirror_mode": {
    "name": "ipython",
    "version": 3
   },
   "file_extension": ".py",
   "mimetype": "text/x-python",
   "name": "python",
   "nbconvert_exporter": "python",
   "pygments_lexer": "ipython3",
   "version": "3.7.4"
  }
 },
 "nbformat": 4,
 "nbformat_minor": 2
}
